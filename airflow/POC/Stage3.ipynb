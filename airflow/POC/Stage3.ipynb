{
 "cells": [
  {
   "cell_type": "code",
   "execution_count": null,
   "metadata": {},
   "outputs": [],
   "source": [
    "import boto3\n",
    "from botocore.exceptions import NoCredentialsError, ClientError \n",
    "\n",
    "def upload_to_s3(local_file, bucket, s3_file):\n",
    "    s3 = boto3.client('s3')\n",
    "    try:\n",
    "        s3.upload_file(local_file, bucket, s3_file)\n",
    "        print (f\"Upload Successful: (local_file} to s3://{bucket}/{s3_file}\")\n",
    "        return True\n",
    "    except FileNotFoundError:\n",
    "        print(\"The file was not found\")\n",
    "        return False\n",
    "    except NoCredentialsError:\n",
    "        print(\"Credentials not available\")\n",
    "        return False\n",
    "    except ClientError as e:\n",
    "        print(\"Client error: {e}\")\n",
    "        return False\n",
    "    \n",
    "    local_file = \"downloads\"\n",
    "    bucket = \"ddddemo-damg7245-fall2024\"\n",
    "    s3_file = \"downloads\"\n",
    "    upload_to_s3(local_file, bucket, s3_file)"
   ]
  }
 ],
 "metadata": {
  "language_info": {
   "name": "python"
  }
 },
 "nbformat": 4,
 "nbformat_minor": 2
}

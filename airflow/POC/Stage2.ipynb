{
 "cells": [
  {
   "cell_type": "markdown",
   "metadata": {},
   "source": [
    "## Download the title, image, summary, and file for each PDF "
   ]
  },
  {
   "cell_type": "code",
   "execution_count": 1,
   "metadata": {},
   "outputs": [],
   "source": [
    "import os\n",
    "import csv\n",
    "import time\n",
    "from selenium import webdriver\n",
    "from dotenv import load_dotenv\n",
    "from bs4 import BeautifulSoup\n",
    "from selenium.webdriver.chrome.service import Service\n",
    "from selenium.webdriver.chrome.options import Options\n",
    "from unidecode import unidecode"
   ]
  },
  {
   "cell_type": "code",
   "execution_count": 2,
   "metadata": {},
   "outputs": [
    {
     "data": {
      "text/plain": [
       "True"
      ]
     },
     "execution_count": 2,
     "metadata": {},
     "output_type": "execute_result"
    }
   ],
   "source": [
    "# Load the environment variables\n",
    "load_dotenv(\"../.env\")"
   ]
  },
  {
   "cell_type": "code",
   "execution_count": 9,
   "metadata": {},
   "outputs": [],
   "source": [
    "def download(url):\n",
    "\n",
    "    status = False\n",
    "\n",
    "    try:\n",
    "        # We need Javascript rendering to see the content\n",
    "        # Ask Selenium to use Google Chrome as the driver\n",
    "\n",
    "        # Set WebDriver options (headless mode to run without UI)\n",
    "        options = Options()\n",
    "        options.add_argument(\"--headless=new\")\n",
    "        \n",
    "        # Ensure you download the right chrome driver from the URL mentioned above for your OS\n",
    "        # Create a folder named 'chromedriver' and store the chromedriver in it \n",
    "        \n",
    "        # chromedriver.exe will work only on Windows\n",
    "        chromedriver_directory = os.path.join(os.path.dirname(os.getcwd()), \"chromedriver\", \"chromedriver.exe\")\n",
    "        service = Service(chromedriver_directory)\n",
    "\n",
    "        # Load the driver from Google Chrome\n",
    "        driver = webdriver.Chrome(options = options, service = service)\n",
    "\n",
    "        # Make a GET request\n",
    "        driver.get(url)\n",
    "\n",
    "        # Sleep for 10 seconds to ensure the page is completely loaded before proceeding\n",
    "        time.sleep(10)\n",
    "\n",
    "        # Fetch the source code of the webpage so we can process it\n",
    "        page_source_code = driver.page_source\n",
    "\n",
    "        # Call BeautifulSoup to parse the HTML content\n",
    "        soup = BeautifulSoup(page_source_code, \"html.parser\")\n",
    "\n",
    "        # Extract the PDF download url\n",
    "        download_url = soup.find('a', class_=\"content-asset--primary\").get(\"href\")\n",
    "\n",
    "        # Extract the book cover image\n",
    "        cover_image = soup.find('img', class_=\"article-cover\").get(\"src\").split('?')[0]\n",
    "        \n",
    "        # Extract the overview (which will be used as summary)\n",
    "        overview_content = soup.find_all('div', class_='article__paragraph')\n",
    "        overview = \"\"\n",
    "\n",
    "        for div in overview_content:\n",
    "            paragraphs = div.find_all('p')\n",
    "            for para in paragraphs:\n",
    "                overview += unidecode(str(para.get_text()).strip().replace(\"\\n\", \"\"))\n",
    "    \n",
    "    except Exception as exception:\n",
    "        print(exception)\n",
    "    \n",
    "    finally:\n",
    "        # Stop the webdriver\n",
    "        driver.quit()\n",
    "    \n",
    "    return status"
   ]
  },
  {
   "cell_type": "code",
   "execution_count": 10,
   "metadata": {},
   "outputs": [
    {
     "name": "stdout",
     "output_type": "stream",
     "text": [
      "/-/media/images/book-cover/cover-beyond-active-and-passive.jpg\n"
     ]
    },
    {
     "data": {
      "text/plain": [
       "False"
      ]
     },
     "execution_count": 10,
     "metadata": {},
     "output_type": "execute_result"
    }
   ],
   "source": [
    "download(\"https://rpc.cfainstitute.org/research/foundation/2024/beyond-active-and-passive-investing\")"
   ]
  }
 ],
 "metadata": {
  "kernelspec": {
   "display_name": "airflow_env",
   "language": "python",
   "name": "python3"
  },
  "language_info": {
   "codemirror_mode": {
    "name": "ipython",
    "version": 3
   },
   "file_extension": ".py",
   "mimetype": "text/x-python",
   "name": "python",
   "nbconvert_exporter": "python",
   "pygments_lexer": "ipython3",
   "version": "3.12.5"
  }
 },
 "nbformat": 4,
 "nbformat_minor": 2
}
